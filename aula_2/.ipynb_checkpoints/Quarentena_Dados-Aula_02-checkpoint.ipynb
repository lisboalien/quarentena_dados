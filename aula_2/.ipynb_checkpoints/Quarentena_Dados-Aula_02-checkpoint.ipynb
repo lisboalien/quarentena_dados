{
 "cells": [
  {
   "cell_type": "markdown",
   "metadata": {},
   "source": [
    "# Introdução\n",
    "Olá seja bem-vinda e bem-vindo ao notebook da **aula 02**, desça até o conteúdo da aula 02 e bons estudos (Se clicar na seta antes do título Aula 01 ela comprime todo o conteúndo da aula 1, deixando o layout mais agradavél).\n",
    "\n",
    "**Não esqueça de rodar todos as células de códigos da aula 01, antes de iniciar a aula 02**"
   ]
  },
  {
   "cell_type": "markdown",
   "metadata": {},
   "source": [
    "# Aula 02\n",
    "Nesta aula vamos estudar com mais profundidade as técnicas de centralidade, conhecer algumas boas práticas de visualização de dados e o famoso Boxplot.\n",
    "\n",
    "Para inciar vamos precisar resolver alguns dos desafios deixados na **aula 01** (Caso não tenha tentado resolver os desafios, recomendo tentar algumas vezes antes de olhar as repostas). Começando pelo exercício 05, onde precisamos segregar os gêneros de cada um dos filmes contidos na base de dados do **Movie Lens**.\n",
    "\n",
    "Vamos relembrar como os dados estavam configurados."
   ]
  },
  {
   "cell_type": "code",
   "execution_count": 4,
   "metadata": {},
   "outputs": [],
   "source": [
    "import pandas as pd"
   ]
  },
  {
   "cell_type": "code",
   "execution_count": 5,
   "metadata": {},
   "outputs": [
    {
     "data": {
      "text/html": [
       "<div>\n",
       "<style scoped>\n",
       "    .dataframe tbody tr th:only-of-type {\n",
       "        vertical-align: middle;\n",
       "    }\n",
       "\n",
       "    .dataframe tbody tr th {\n",
       "        vertical-align: top;\n",
       "    }\n",
       "\n",
       "    .dataframe thead th {\n",
       "        text-align: right;\n",
       "    }\n",
       "</style>\n",
       "<table border=\"1\" class=\"dataframe\">\n",
       "  <thead>\n",
       "    <tr style=\"text-align: right;\">\n",
       "      <th></th>\n",
       "      <th>filmeId</th>\n",
       "      <th>titulo</th>\n",
       "      <th>generos</th>\n",
       "    </tr>\n",
       "  </thead>\n",
       "  <tbody>\n",
       "    <tr>\n",
       "      <th>0</th>\n",
       "      <td>1</td>\n",
       "      <td>Toy Story (1995)</td>\n",
       "      <td>Adventure|Animation|Children|Comedy|Fantasy</td>\n",
       "    </tr>\n",
       "    <tr>\n",
       "      <th>1</th>\n",
       "      <td>2</td>\n",
       "      <td>Jumanji (1995)</td>\n",
       "      <td>Adventure|Children|Fantasy</td>\n",
       "    </tr>\n",
       "    <tr>\n",
       "      <th>2</th>\n",
       "      <td>3</td>\n",
       "      <td>Grumpier Old Men (1995)</td>\n",
       "      <td>Comedy|Romance</td>\n",
       "    </tr>\n",
       "    <tr>\n",
       "      <th>3</th>\n",
       "      <td>4</td>\n",
       "      <td>Waiting to Exhale (1995)</td>\n",
       "      <td>Comedy|Drama|Romance</td>\n",
       "    </tr>\n",
       "    <tr>\n",
       "      <th>4</th>\n",
       "      <td>5</td>\n",
       "      <td>Father of the Bride Part II (1995)</td>\n",
       "      <td>Comedy</td>\n",
       "    </tr>\n",
       "  </tbody>\n",
       "</table>\n",
       "</div>"
      ],
      "text/plain": [
       "   filmeId                              titulo  \\\n",
       "0        1                    Toy Story (1995)   \n",
       "1        2                      Jumanji (1995)   \n",
       "2        3             Grumpier Old Men (1995)   \n",
       "3        4            Waiting to Exhale (1995)   \n",
       "4        5  Father of the Bride Part II (1995)   \n",
       "\n",
       "                                       generos  \n",
       "0  Adventure|Animation|Children|Comedy|Fantasy  \n",
       "1                   Adventure|Children|Fantasy  \n",
       "2                               Comedy|Romance  \n",
       "3                         Comedy|Drama|Romance  \n",
       "4                                       Comedy  "
      ]
     },
     "execution_count": 5,
     "metadata": {},
     "output_type": "execute_result"
    }
   ],
   "source": [
    "filmes = pd.read_csv(\".\\\\ml-latest-small\\\\movies.csv\")\n",
    "# filmes é um DataFrame\n",
    "filmes.columns = [\"filmeId\", \"titulo\", \"generos\"]\n",
    "filmes.head()"
   ]
  },
  {
   "cell_type": "markdown",
   "metadata": {},
   "source": [
    "Temos os títulos e uma coluna com os respectivos gêneros, todos em uma única coluna, cada label é separada com um | (Adventure|Children|Fantasy) sendo do tipo string.\n",
    "\n",
    "Para solucionar nosso problema precisamos separar cada um dos gêneros para então realizar a contagem. Existe várias formas de resolver este problema, por exemplo, desde métodos inputos das strings até as **regex**, mas como estamos usando o pandas já temos algo para facilitar nosso processamento dos dados.\n",
    "\n",
    "Vamos aplicar o método e logo em seguida explicar a saída geranda."
   ]
  },
  {
   "cell_type": "code",
   "execution_count": 6,
   "metadata": {},
   "outputs": [
    {
     "data": {
      "text/html": [
       "<div>\n",
       "<style scoped>\n",
       "    .dataframe tbody tr th:only-of-type {\n",
       "        vertical-align: middle;\n",
       "    }\n",
       "\n",
       "    .dataframe tbody tr th {\n",
       "        vertical-align: top;\n",
       "    }\n",
       "\n",
       "    .dataframe thead th {\n",
       "        text-align: right;\n",
       "    }\n",
       "</style>\n",
       "<table border=\"1\" class=\"dataframe\">\n",
       "  <thead>\n",
       "    <tr style=\"text-align: right;\">\n",
       "      <th></th>\n",
       "      <th>(no genres listed)</th>\n",
       "      <th>Action</th>\n",
       "      <th>Adventure</th>\n",
       "      <th>Animation</th>\n",
       "      <th>Children</th>\n",
       "      <th>Comedy</th>\n",
       "      <th>Crime</th>\n",
       "      <th>Documentary</th>\n",
       "      <th>Drama</th>\n",
       "      <th>Fantasy</th>\n",
       "      <th>Film-Noir</th>\n",
       "      <th>Horror</th>\n",
       "      <th>IMAX</th>\n",
       "      <th>Musical</th>\n",
       "      <th>Mystery</th>\n",
       "      <th>Romance</th>\n",
       "      <th>Sci-Fi</th>\n",
       "      <th>Thriller</th>\n",
       "      <th>War</th>\n",
       "      <th>Western</th>\n",
       "    </tr>\n",
       "  </thead>\n",
       "  <tbody>\n",
       "    <tr>\n",
       "      <th>0</th>\n",
       "      <td>0</td>\n",
       "      <td>0</td>\n",
       "      <td>1</td>\n",
       "      <td>1</td>\n",
       "      <td>1</td>\n",
       "      <td>1</td>\n",
       "      <td>0</td>\n",
       "      <td>0</td>\n",
       "      <td>0</td>\n",
       "      <td>1</td>\n",
       "      <td>0</td>\n",
       "      <td>0</td>\n",
       "      <td>0</td>\n",
       "      <td>0</td>\n",
       "      <td>0</td>\n",
       "      <td>0</td>\n",
       "      <td>0</td>\n",
       "      <td>0</td>\n",
       "      <td>0</td>\n",
       "      <td>0</td>\n",
       "    </tr>\n",
       "    <tr>\n",
       "      <th>1</th>\n",
       "      <td>0</td>\n",
       "      <td>0</td>\n",
       "      <td>1</td>\n",
       "      <td>0</td>\n",
       "      <td>1</td>\n",
       "      <td>0</td>\n",
       "      <td>0</td>\n",
       "      <td>0</td>\n",
       "      <td>0</td>\n",
       "      <td>1</td>\n",
       "      <td>0</td>\n",
       "      <td>0</td>\n",
       "      <td>0</td>\n",
       "      <td>0</td>\n",
       "      <td>0</td>\n",
       "      <td>0</td>\n",
       "      <td>0</td>\n",
       "      <td>0</td>\n",
       "      <td>0</td>\n",
       "      <td>0</td>\n",
       "    </tr>\n",
       "    <tr>\n",
       "      <th>2</th>\n",
       "      <td>0</td>\n",
       "      <td>0</td>\n",
       "      <td>0</td>\n",
       "      <td>0</td>\n",
       "      <td>0</td>\n",
       "      <td>1</td>\n",
       "      <td>0</td>\n",
       "      <td>0</td>\n",
       "      <td>0</td>\n",
       "      <td>0</td>\n",
       "      <td>0</td>\n",
       "      <td>0</td>\n",
       "      <td>0</td>\n",
       "      <td>0</td>\n",
       "      <td>0</td>\n",
       "      <td>1</td>\n",
       "      <td>0</td>\n",
       "      <td>0</td>\n",
       "      <td>0</td>\n",
       "      <td>0</td>\n",
       "    </tr>\n",
       "    <tr>\n",
       "      <th>3</th>\n",
       "      <td>0</td>\n",
       "      <td>0</td>\n",
       "      <td>0</td>\n",
       "      <td>0</td>\n",
       "      <td>0</td>\n",
       "      <td>1</td>\n",
       "      <td>0</td>\n",
       "      <td>0</td>\n",
       "      <td>1</td>\n",
       "      <td>0</td>\n",
       "      <td>0</td>\n",
       "      <td>0</td>\n",
       "      <td>0</td>\n",
       "      <td>0</td>\n",
       "      <td>0</td>\n",
       "      <td>1</td>\n",
       "      <td>0</td>\n",
       "      <td>0</td>\n",
       "      <td>0</td>\n",
       "      <td>0</td>\n",
       "    </tr>\n",
       "    <tr>\n",
       "      <th>4</th>\n",
       "      <td>0</td>\n",
       "      <td>0</td>\n",
       "      <td>0</td>\n",
       "      <td>0</td>\n",
       "      <td>0</td>\n",
       "      <td>1</td>\n",
       "      <td>0</td>\n",
       "      <td>0</td>\n",
       "      <td>0</td>\n",
       "      <td>0</td>\n",
       "      <td>0</td>\n",
       "      <td>0</td>\n",
       "      <td>0</td>\n",
       "      <td>0</td>\n",
       "      <td>0</td>\n",
       "      <td>0</td>\n",
       "      <td>0</td>\n",
       "      <td>0</td>\n",
       "      <td>0</td>\n",
       "      <td>0</td>\n",
       "    </tr>\n",
       "    <tr>\n",
       "      <th>...</th>\n",
       "      <td>...</td>\n",
       "      <td>...</td>\n",
       "      <td>...</td>\n",
       "      <td>...</td>\n",
       "      <td>...</td>\n",
       "      <td>...</td>\n",
       "      <td>...</td>\n",
       "      <td>...</td>\n",
       "      <td>...</td>\n",
       "      <td>...</td>\n",
       "      <td>...</td>\n",
       "      <td>...</td>\n",
       "      <td>...</td>\n",
       "      <td>...</td>\n",
       "      <td>...</td>\n",
       "      <td>...</td>\n",
       "      <td>...</td>\n",
       "      <td>...</td>\n",
       "      <td>...</td>\n",
       "      <td>...</td>\n",
       "    </tr>\n",
       "    <tr>\n",
       "      <th>9737</th>\n",
       "      <td>0</td>\n",
       "      <td>1</td>\n",
       "      <td>0</td>\n",
       "      <td>1</td>\n",
       "      <td>0</td>\n",
       "      <td>1</td>\n",
       "      <td>0</td>\n",
       "      <td>0</td>\n",
       "      <td>0</td>\n",
       "      <td>1</td>\n",
       "      <td>0</td>\n",
       "      <td>0</td>\n",
       "      <td>0</td>\n",
       "      <td>0</td>\n",
       "      <td>0</td>\n",
       "      <td>0</td>\n",
       "      <td>0</td>\n",
       "      <td>0</td>\n",
       "      <td>0</td>\n",
       "      <td>0</td>\n",
       "    </tr>\n",
       "    <tr>\n",
       "      <th>9738</th>\n",
       "      <td>0</td>\n",
       "      <td>0</td>\n",
       "      <td>0</td>\n",
       "      <td>1</td>\n",
       "      <td>0</td>\n",
       "      <td>1</td>\n",
       "      <td>0</td>\n",
       "      <td>0</td>\n",
       "      <td>0</td>\n",
       "      <td>1</td>\n",
       "      <td>0</td>\n",
       "      <td>0</td>\n",
       "      <td>0</td>\n",
       "      <td>0</td>\n",
       "      <td>0</td>\n",
       "      <td>0</td>\n",
       "      <td>0</td>\n",
       "      <td>0</td>\n",
       "      <td>0</td>\n",
       "      <td>0</td>\n",
       "    </tr>\n",
       "    <tr>\n",
       "      <th>9739</th>\n",
       "      <td>0</td>\n",
       "      <td>0</td>\n",
       "      <td>0</td>\n",
       "      <td>0</td>\n",
       "      <td>0</td>\n",
       "      <td>0</td>\n",
       "      <td>0</td>\n",
       "      <td>0</td>\n",
       "      <td>1</td>\n",
       "      <td>0</td>\n",
       "      <td>0</td>\n",
       "      <td>0</td>\n",
       "      <td>0</td>\n",
       "      <td>0</td>\n",
       "      <td>0</td>\n",
       "      <td>0</td>\n",
       "      <td>0</td>\n",
       "      <td>0</td>\n",
       "      <td>0</td>\n",
       "      <td>0</td>\n",
       "    </tr>\n",
       "    <tr>\n",
       "      <th>9740</th>\n",
       "      <td>0</td>\n",
       "      <td>1</td>\n",
       "      <td>0</td>\n",
       "      <td>1</td>\n",
       "      <td>0</td>\n",
       "      <td>0</td>\n",
       "      <td>0</td>\n",
       "      <td>0</td>\n",
       "      <td>0</td>\n",
       "      <td>0</td>\n",
       "      <td>0</td>\n",
       "      <td>0</td>\n",
       "      <td>0</td>\n",
       "      <td>0</td>\n",
       "      <td>0</td>\n",
       "      <td>0</td>\n",
       "      <td>0</td>\n",
       "      <td>0</td>\n",
       "      <td>0</td>\n",
       "      <td>0</td>\n",
       "    </tr>\n",
       "    <tr>\n",
       "      <th>9741</th>\n",
       "      <td>0</td>\n",
       "      <td>0</td>\n",
       "      <td>0</td>\n",
       "      <td>0</td>\n",
       "      <td>0</td>\n",
       "      <td>1</td>\n",
       "      <td>0</td>\n",
       "      <td>0</td>\n",
       "      <td>0</td>\n",
       "      <td>0</td>\n",
       "      <td>0</td>\n",
       "      <td>0</td>\n",
       "      <td>0</td>\n",
       "      <td>0</td>\n",
       "      <td>0</td>\n",
       "      <td>0</td>\n",
       "      <td>0</td>\n",
       "      <td>0</td>\n",
       "      <td>0</td>\n",
       "      <td>0</td>\n",
       "    </tr>\n",
       "  </tbody>\n",
       "</table>\n",
       "<p>9742 rows × 20 columns</p>\n",
       "</div>"
      ],
      "text/plain": [
       "      (no genres listed)  Action  Adventure  Animation  Children  Comedy  \\\n",
       "0                      0       0          1          1         1       1   \n",
       "1                      0       0          1          0         1       0   \n",
       "2                      0       0          0          0         0       1   \n",
       "3                      0       0          0          0         0       1   \n",
       "4                      0       0          0          0         0       1   \n",
       "...                  ...     ...        ...        ...       ...     ...   \n",
       "9737                   0       1          0          1         0       1   \n",
       "9738                   0       0          0          1         0       1   \n",
       "9739                   0       0          0          0         0       0   \n",
       "9740                   0       1          0          1         0       0   \n",
       "9741                   0       0          0          0         0       1   \n",
       "\n",
       "      Crime  Documentary  Drama  Fantasy  Film-Noir  Horror  IMAX  Musical  \\\n",
       "0         0            0      0        1          0       0     0        0   \n",
       "1         0            0      0        1          0       0     0        0   \n",
       "2         0            0      0        0          0       0     0        0   \n",
       "3         0            0      1        0          0       0     0        0   \n",
       "4         0            0      0        0          0       0     0        0   \n",
       "...     ...          ...    ...      ...        ...     ...   ...      ...   \n",
       "9737      0            0      0        1          0       0     0        0   \n",
       "9738      0            0      0        1          0       0     0        0   \n",
       "9739      0            0      1        0          0       0     0        0   \n",
       "9740      0            0      0        0          0       0     0        0   \n",
       "9741      0            0      0        0          0       0     0        0   \n",
       "\n",
       "      Mystery  Romance  Sci-Fi  Thriller  War  Western  \n",
       "0           0        0       0         0    0        0  \n",
       "1           0        0       0         0    0        0  \n",
       "2           0        1       0         0    0        0  \n",
       "3           0        1       0         0    0        0  \n",
       "4           0        0       0         0    0        0  \n",
       "...       ...      ...     ...       ...  ...      ...  \n",
       "9737        0        0       0         0    0        0  \n",
       "9738        0        0       0         0    0        0  \n",
       "9739        0        0       0         0    0        0  \n",
       "9740        0        0       0         0    0        0  \n",
       "9741        0        0       0         0    0        0  \n",
       "\n",
       "[9742 rows x 20 columns]"
      ]
     },
     "execution_count": 6,
     "metadata": {},
     "output_type": "execute_result"
    }
   ],
   "source": [
    "filmes[\"generos\"].str.get_dummies('|')"
   ]
  },
  {
   "cell_type": "markdown",
   "metadata": {},
   "source": [
    "Nossa, uma linha de código gerou essa tabelona cheia de linhas, colunas e números.\n",
    "\n",
    "Como você percebeu a saída é um <a href=\"https://pandas.pydata.org/pandas-docs/stable/reference/api/pandas.DataFrame.html\">DataFrame</a>, cada linha corresponde a respectiva linha da coluna gênero, cada coluna corresponde a um gênero (repare que cada gênero **único** virou uma coluna no DF). O que você deve estar se perguntando é como os valores **0/1** são preenchidos?.\n",
    "\n",
    "Para explicar, vamos pegar os gêneros do filme Jumanji, Adventure|Children|Fantasy, na coluna dos repectivos gêneros (dataframe gerado por ```filmes[\"generos\"].str.get_dummies('|')```) o valor será 1, para todos os outros gêneros, que não são gêneros do filme Jumanji, vale 0. Em suma, se o nome da coluna pertence a algum gêreno do respectivo filme, o valor será 1 caso contrário 0 (Se ainda não ficou claro, pegue alguns filmes e confira os resultas na tabela anterior).\n",
    "\n",
    "Até aqui resolvemos uma parte do problema, agora precisamo somar quantos 1 cada coluna tem."
   ]
  },
  {
   "cell_type": "code",
   "execution_count": 7,
   "metadata": {},
   "outputs": [
    {
     "data": {
      "text/plain": [
       "(no genres listed)      34\n",
       "Action                1828\n",
       "Adventure             1263\n",
       "Animation              611\n",
       "Children               664\n",
       "Comedy                3756\n",
       "Crime                 1199\n",
       "Documentary            440\n",
       "Drama                 4361\n",
       "Fantasy                779\n",
       "Film-Noir               87\n",
       "Horror                 978\n",
       "IMAX                   158\n",
       "Musical                334\n",
       "Mystery                573\n",
       "Romance               1596\n",
       "Sci-Fi                 980\n",
       "Thriller              1894\n",
       "War                    382\n",
       "Western                167\n",
       "dtype: int64"
      ]
     },
     "execution_count": 7,
     "metadata": {},
     "output_type": "execute_result"
    }
   ],
   "source": [
    "filmes[\"generos\"].str.get_dummies('|').sum()"
   ]
  },
  {
   "cell_type": "markdown",
   "metadata": {},
   "source": [
    "Ótimo, resolvemos o desafio e agora temos quantas vezes cada gênero aparece. Assim, fica fácil de reponder perguntar como, qual o gênero com mais filmes produzidos? Qual o menos? Qual o segundo? (Lembrando que o dado está restrito as informações do movie lens)\n",
    "\n",
    "Se você tentou reponder, deve ter notado que não foi tão fácil assim, as informações não estão ordenadas e toda hora você precisa percorrer a tabela para fazer comparações. Nós podemos melhor isso ordenando as informações."
   ]
  },
  {
   "cell_type": "code",
   "execution_count": 8,
   "metadata": {},
   "outputs": [
    {
     "data": {
      "text/plain": [
       "Drama                 4361\n",
       "Comedy                3756\n",
       "Thriller              1894\n",
       "Action                1828\n",
       "Romance               1596\n",
       "Adventure             1263\n",
       "Crime                 1199\n",
       "Sci-Fi                 980\n",
       "Horror                 978\n",
       "Fantasy                779\n",
       "Children               664\n",
       "Animation              611\n",
       "Mystery                573\n",
       "Documentary            440\n",
       "War                    382\n",
       "Musical                334\n",
       "Western                167\n",
       "IMAX                   158\n",
       "Film-Noir               87\n",
       "(no genres listed)      34\n",
       "dtype: int64"
      ]
     },
     "execution_count": 8,
     "metadata": {},
     "output_type": "execute_result"
    }
   ],
   "source": [
    "filmes[\"generos\"].str.get_dummies('|').sum().sort_values(ascending=False)"
   ]
  },
  {
   "cell_type": "markdown",
   "metadata": {},
   "source": [
    "Maravilha, agora tudo ficou mais fácil!\n",
    "\n",
    "Conseguimos responder as perguntas anterior sem grandes dificuldades. Mas ainda podemos melhor mais a forma de expor nossa informação, não acha?\n",
    "\n",
    "Que tal uma imagem para visualizar? (Desafio 07 da aula 01)"
   ]
  },
  {
   "cell_type": "code",
   "execution_count": 9,
   "metadata": {},
   "outputs": [
    {
     "data": {
      "text/plain": [
       "<matplotlib.axes._subplots.AxesSubplot at 0x1f485332198>"
      ]
     },
     "execution_count": 9,
     "metadata": {},
     "output_type": "execute_result"
    },
    {
     "data": {
      "image/png": "[encoded data removed]",
      "text/plain": [
       "<Figure size 432x288 with 1 Axes>"
      ]
     },
     "metadata": {
      "needs_background": "light"
     },
     "output_type": "display_data"
    }
   ],
   "source": [
    "filmes[\"generos\"].str.get_dummies('|').sum().sort_values(ascending=False).plot()"
   ]
  },
  {
   "cell_type": "markdown",
   "metadata": {},
   "source": [
    "Iniciamos com o plot padrão do pandas, e como percebemos não adianta só plotar uma imagem, é preciso que faça sentido para a informação que queremos analisar, um gráfico de linhas não está fazendo muito sentido!\n",
    "\n",
    "Temos um gráfico muito conhecido que sempre encontramos por aí, o famoso gráfico de pizza ou torta.\n",
    "\n",
    "Já que ele é tão famoso talvez seja uma boa ideia tentar!"
   ]
  },
  {
   "cell_type": "code",
   "execution_count": 10,
   "metadata": {},
   "outputs": [
    {
     "data": {
      "image/png": "[encoded data removed]",
      "text/plain": [
       "<Figure size 576x576 with 1 Axes>"
      ]
     },
     "metadata": {},
     "output_type": "display_data"
    }
   ],
   "source": [
    "import matplotlib.pyplot as plt\n",
    "\n",
    "filmes[\"generos\"].str.get_dummies('|').sum().sort_values(ascending=False).plot(\n",
    "    kind='pie', \n",
    "    title='Categorias de filmes e suas presenças relativas',\n",
    "    figsize=(8,8))\n",
    "plt.show()"
   ]
  },
  {
   "cell_type": "markdown",
   "metadata": {},
   "source": [
    "E aí o que você achou?\n",
    "\n",
    "Algo que fica evidente neste gráfico é que **Drama, Comedy, Thriller, e Action** tem proporções \"grandes\", mas qualquer outra análise fica complicada.\n",
    "\n",
    "Primeiro, as cores começa a se repetir e isso não é o ideial.\n",
    "\n",
    "Segundo, repare nos gêneros com menos filmes,consegue tirar alguma informação de lá? é muito difícil de analisar.\n",
    "\n",
    "Quarto, vamos tentar comparar **thriller** e **Action**, qual está presente em mais filmes? Difícil responder, quando estamos trabalhando com gráficos tipo esse fazemos comparações entre área, não somos bons nisso.\n",
    "\n",
    "Por fim, o importante de uma visualização é que ela seja \"**transparente**\" ao intuíto de nossa análise. Ou seja, estamos querendo analisar as informações de quantidade, comparando as labels de forma geral e evidênciando de maneira clara as diferenças entre elas (proporções).\n",
    "\n",
    "Portanto, o gráfico de pizza não torna as comparações claras, sendo assim uma má ideia.\n",
    "\n",
    "Vamos construir juntos uma solução mais adequada!"
   ]
  },
  {
   "cell_type": "code",
   "execution_count": 11,
   "metadata": {},
   "outputs": [
    {
     "data": {
      "image/png": "[encoded data removed]",
      "text/plain": [
       "<Figure size 576x576 with 1 Axes>"
      ]
     },
     "metadata": {
      "needs_background": "light"
     },
     "output_type": "display_data"
    }
   ],
   "source": [
    "filmes[\"generos\"].str.get_dummies('|').sum().sort_values(ascending=False).plot(\n",
    "    kind='bar', \n",
    "    title='Filmes por categoria',\n",
    "    figsize=(8,8))\n",
    "plt.show()"
   ]
  },
  {
   "cell_type": "markdown",
   "metadata": {},
   "source": [
    "Mudamos da pizza para a barra, alterando apenas o parâmetro kind do método.\n",
    "\n",
    "Veja como o gráfico de barra torna a análise mais simples, logo de cara a diferença entre **Drama e Comedy**, comparado aos demais gêneros fica evidênte. No gráfico de pizza era super difícil comparar **Thriller e Action**, agora a comparação ficou fácil e conseguimos perceber o quão perto estão uma da outra.\n",
    "\n",
    "A interpretação dos dados melhorou muito com essa visualização, mas podemos melhorar ainda mais. O que queremos é tornar evidênte os gêneros que tem a maior participação nos filmes em geral, ou seja transparecer através da imagem uma visão geral de proporcionalidade. Para tornar evidênte essa informação vamos utilizar algo \"semelhante\" a um <a href=\"https://en.wikipedia.org/wiki/Heat_map\">mapa de calor</a>."
   ]
  },
  {
   "cell_type": "code",
   "execution_count": 12,
   "metadata": {},
   "outputs": [
    {
     "data": {
      "image/png": "[encoded data removed]",
      "text/plain": [
       "<Figure size 1152x576 with 1 Axes>"
      ]
     },
     "metadata": {},
     "output_type": "display_data"
    }
   ],
   "source": [
    "import seaborn as sns\n",
    "sns.set_style(\"whitegrid\")\n",
    "\n",
    "filmes_por_genero = filmes[\"generos\"].str.get_dummies('|').sum().sort_values(ascending=False)\n",
    "plt.figure(figsize=(16,8))\n",
    "sns.barplot(x=filmes_por_genero.index,\n",
    "            y=filmes_por_genero.values,\n",
    "            palette=sns.color_palette(\"BuGn_r\", n_colors=len(filmes_por_genero) + 4))\n",
    "plt.show()"
   ]
  },
  {
   "cell_type": "markdown",
   "metadata": {},
   "source": [
    "Já, já explicamos o que foi feito em toda imagem, por agora repare como a imagem passa muito mais informação. Conseguimos comparar de forma fácil entre os gêneros e através do **mapa de calor** (gêneros com maior número tem um verde muito mais forte, gêneros com menor número é praticamente transparente) evidênciamos quais são as labels com maior participação, médias e insignificantes. Toda essa informação em uma única imagem!\n",
    "\n",
    "Bom, agora vamos entender como foi o código.\n",
    "\n",
    "Primeiro, não plotamos mais a imagem com o ```.plot()``` do pandas, vamos precisar de uma biblioteca de visualização mais poderosa para configurar nossa imagem, utilizamos o <a href=\"https://seaborn.pydata.org/\">seaborn</a>.\n",
    "\n",
    "Segundo, chamamos o barplot do **seaborn**, adicionando uma **paleta de cores** com efeito de mapa de calor (parâmetro pallette), no parâmetro ```n_color``` de ```sns.color_palette()``` adicionamos +4 para que a última barra não seja totalmente transparente.\n",
    "\n",
    "Terceiro, também adicionamos o ```sns.set_style(\"whitegrid\")``` para que todos os gráficos tenham a linha de grade do eixo X evidênte, facilitando a comparação entre as barras."
   ]
  },
  {
   "cell_type": "code",
   "execution_count": 13,
   "metadata": {},
   "outputs": [
    {
     "data": {
      "image/png": "[encoded data removed]",
      "text/plain": [
       "<Figure size 576x576 with 1 Axes>"
      ]
     },
     "metadata": {},
     "output_type": "display_data"
    }
   ],
   "source": [
    "import seaborn as sns\n",
    "\n",
    "filmes_por_genero = filmes[\"generos\"].str.get_dummies('|').sum().sort_values(ascending=False)\n",
    "plt.figure(figsize=(8,8))\n",
    "sns.barplot(x=filmes_por_genero.index,\n",
    "            y=filmes_por_genero.values,\n",
    "            palette=sns.color_palette(\"BuGn_r\", n_colors=len(filmes_por_genero) + 4))\n",
    "plt.show()"
   ]
  },
  {
   "cell_type": "markdown",
   "metadata": {},
   "source": [
    "Por fim, mudamos o tamanho da imagem com o **figsize** do método ```plt.figure()```. Assim, temos um gráfico com muitas informações e agradável de analisar."
   ]
  },
  {
   "cell_type": "code",
   "execution_count": 14,
   "metadata": {},
   "outputs": [
    {
     "data": {
      "image/png": "[encoded data removed]",
      "text/plain": [
       "<Figure size 1152x576 with 1 Axes>"
      ]
     },
     "metadata": {},
     "output_type": "display_data"
    }
   ],
   "source": [
    "import seaborn as sns\n",
    "sns.set_style(\"whitegrid\")\n",
    "\n",
    "filmes_por_genero = filmes[\"generos\"].str.get_dummies('|').sum().sort_values(ascending=False)\n",
    "plt.figure(figsize=(16,8))\n",
    "sns.barplot(x=filmes_por_genero.index,\n",
    "            y=filmes_por_genero.values,\n",
    "            palette=sns.color_palette(\"BuGn_r\", n_colors=len(filmes_por_genero) + 4))\n",
    "plt.show()"
   ]
  },
  {
   "cell_type": "markdown",
   "metadata": {},
   "source": [
    "Conseguimos analisar e tirar diversas conclusões trabalhando com a visualização dos gêneros. Será que conseguimos utilizar visualizações para entender melhor as notas de um filme?\n",
    "\n",
    "Vamos relembrar alguns pontos que já discutimos e nos aprofundar nas análises de notas para tirar conclusões mais sofisticadas.\n",
    "\n",
    "Na **aula 01** calculamos as notas médias por filmes, vamos dar uma olhada no resultado."
   ]
  },
  {
   "cell_type": "code",
   "execution_count": 195,
   "metadata": {},
   "outputs": [
    {
     "data": {
      "text/html": [
       "<div>\n",
       "<style scoped>\n",
       "    .dataframe tbody tr th:only-of-type {\n",
       "        vertical-align: middle;\n",
       "    }\n",
       "\n",
       "    .dataframe tbody tr th {\n",
       "        vertical-align: top;\n",
       "    }\n",
       "\n",
       "    .dataframe thead th {\n",
       "        text-align: right;\n",
       "    }\n",
       "</style>\n",
       "<table border=\"1\" class=\"dataframe\">\n",
       "  <thead>\n",
       "    <tr style=\"text-align: right;\">\n",
       "      <th></th>\n",
       "      <th>filmeId</th>\n",
       "      <th>titulo</th>\n",
       "      <th>generos</th>\n",
       "      <th>nota</th>\n",
       "    </tr>\n",
       "  </thead>\n",
       "  <tbody>\n",
       "    <tr>\n",
       "      <th>0</th>\n",
       "      <td>1</td>\n",
       "      <td>Toy Story (1995)</td>\n",
       "      <td>Adventure|Animation|Children|Comedy|Fantasy</td>\n",
       "      <td>3.920930</td>\n",
       "    </tr>\n",
       "    <tr>\n",
       "      <th>1</th>\n",
       "      <td>2</td>\n",
       "      <td>Jumanji (1995)</td>\n",
       "      <td>Adventure|Children|Fantasy</td>\n",
       "      <td>3.431818</td>\n",
       "    </tr>\n",
       "    <tr>\n",
       "      <th>2</th>\n",
       "      <td>3</td>\n",
       "      <td>Grumpier Old Men (1995)</td>\n",
       "      <td>Comedy|Romance</td>\n",
       "      <td>3.259615</td>\n",
       "    </tr>\n",
       "    <tr>\n",
       "      <th>3</th>\n",
       "      <td>4</td>\n",
       "      <td>Waiting to Exhale (1995)</td>\n",
       "      <td>Comedy|Drama|Romance</td>\n",
       "      <td>2.357143</td>\n",
       "    </tr>\n",
       "    <tr>\n",
       "      <th>4</th>\n",
       "      <td>5</td>\n",
       "      <td>Father of the Bride Part II (1995)</td>\n",
       "      <td>Comedy</td>\n",
       "      <td>3.071429</td>\n",
       "    </tr>\n",
       "  </tbody>\n",
       "</table>\n",
       "</div>"
      ],
      "text/plain": [
       "   filmeId                              titulo  \\\n",
       "0        1                    Toy Story (1995)   \n",
       "1        2                      Jumanji (1995)   \n",
       "2        3             Grumpier Old Men (1995)   \n",
       "3        4            Waiting to Exhale (1995)   \n",
       "4        5  Father of the Bride Part II (1995)   \n",
       "\n",
       "                                       generos      nota  \n",
       "0  Adventure|Animation|Children|Comedy|Fantasy  3.920930  \n",
       "1                   Adventure|Children|Fantasy  3.431818  \n",
       "2                               Comedy|Romance  3.259615  \n",
       "3                         Comedy|Drama|Romance  2.357143  \n",
       "4                                       Comedy  3.071429  "
      ]
     },
     "execution_count": 195,
     "metadata": {},
     "output_type": "execute_result"
    }
   ],
   "source": [
    "avaliacoes = pd.read_csv(\".\\\\ml-latest-small\\\\ratings.csv\")\n",
    "avaliacoes.columns = [\"usuarioId\", \"filmeId\", \"nota\", \"momento\"]\n",
    "notas_medias_por_filme = avaliacoes.groupby(\"filmeId\")[\"nota\"].mean()\n",
    "filmes_com_media = filmes.join(notas_medias_por_filme, on=\"filmeId\")\n",
    "filmes_com_media.head()"
   ]
  },
  {
   "cell_type": "markdown",
   "metadata": {},
   "source": [
    "Como vimos, olhar apenas as médias pode ser um problema e para interpretar um pouco melhor os dados usamos o histograma das ntoas para comparar alguns filmes. Por exemplo, **Toy Story e Jumanji**"
   ]
  },
  {
   "cell_type": "code",
   "execution_count": 16,
   "metadata": {},
   "outputs": [
    {
     "name": "stdout",
     "output_type": "stream",
     "text": [
      "3.9209302325581397\n"
     ]
    },
    {
     "data": {
      "text/plain": [
       "<matplotlib.axes._subplots.AxesSubplot at 0x1f487a3def0>"
      ]
     },
     "execution_count": 16,
     "metadata": {},
     "output_type": "execute_result"
    },
    {
     "data": {
      "image/png": "[encoded data removed]",
      "text/plain": [
       "<Figure size 432x288 with 1 Axes>"
      ]
     },
     "metadata": {},
     "output_type": "display_data"
    }
   ],
   "source": [
    "notas_do_filme_1 = avaliacoes.query(\"filmeId==1\")[\"nota\"]\n",
    "print(notas_do_filme_1.mean())\n",
    "notas_do_filme_1.plot(kind='hist')"
   ]
  },
  {
   "cell_type": "code",
   "execution_count": 17,
   "metadata": {},
   "outputs": [
    {
     "name": "stdout",
     "output_type": "stream",
     "text": [
      "3.4318181818181817\n"
     ]
    },
    {
     "data": {
      "text/plain": [
       "<matplotlib.axes._subplots.AxesSubplot at 0x1f487826128>"
      ]
     },
     "execution_count": 17,
     "metadata": {},
     "output_type": "execute_result"
    },
    {
     "data": {
      "image/png": "[encoded data removed]",
      "text/plain": [
       "<Figure size 432x288 with 1 Axes>"
      ]
     },
     "metadata": {},
     "output_type": "display_data"
    }
   ],
   "source": [
    "notas_do_filme_1 = avaliacoes.query(\"filmeId==2\")[\"nota\"]\n",
    "print(notas_do_filme_1.mean())\n",
    "notas_do_filme_1.plot(kind='hist')"
   ]
  },
  {
   "cell_type": "markdown",
   "metadata": {},
   "source": [
    "ToyStory e Jumanji tem médias relativamente próximas mas com comportamento de notas diferentes, então, para nosso exemplo, as médias ajudam mas esconde informações importântes sobre os dados.\n",
    "\n",
    "Lembra o exemplo que o Guilherme Silveira deu em aula comparando os sálarios de uma cidade? Olhando apenas para as médias dos salários não conseguimos evidênciar a desigualdade que havia entre as cidades."
   ]
  },
  {
   "cell_type": "code",
   "execution_count": 18,
   "metadata": {},
   "outputs": [],
   "source": [
    "# Cidada A\n",
    "populacao = 1000\n",
    "salario = 1100\n",
    " \n",
    "media = 1100\n",
    " \n",
    "# Cidade B\n",
    "populacao = 1000\n",
    "salario1 = 1000000\n",
    "salario999 = 100\n",
    " \n",
    "media = (salario1 * 1 + salario999 * 999) / 1000\n",
    "media = 1099.00"
   ]
  },
  {
   "cell_type": "markdown",
   "metadata": {},
   "source": [
    "P.S: Se tiver dúvidas reveja essa parte da aula e tente enteder o problema da média.\n",
    "\n",
    "Outras métrica que pode nos ajudar a interpretar melhor os dados são os quatis, principalmente a <a href=\"https://pt.wikipedia.org/wiki/Mediana_(estat%C3%ADstica)\">mediana</a>\n",
    "\n",
    "Vamos buscar dois filmes com médias muito mais próximas que Toy Story e Jumanji, para analisar outras métricas além das médias."
   ]
  },
  {
   "cell_type": "code",
   "execution_count": 19,
   "metadata": {},
   "outputs": [
    {
     "data": {
      "text/html": [
       "<div>\n",
       "<style scoped>\n",
       "    .dataframe tbody tr th:only-of-type {\n",
       "        vertical-align: middle;\n",
       "    }\n",
       "\n",
       "    .dataframe tbody tr th {\n",
       "        vertical-align: top;\n",
       "    }\n",
       "\n",
       "    .dataframe thead th {\n",
       "        text-align: right;\n",
       "    }\n",
       "</style>\n",
       "<table border=\"1\" class=\"dataframe\">\n",
       "  <thead>\n",
       "    <tr style=\"text-align: right;\">\n",
       "      <th></th>\n",
       "      <th>filmeId</th>\n",
       "      <th>titulo</th>\n",
       "      <th>generos</th>\n",
       "      <th>nota</th>\n",
       "    </tr>\n",
       "  </thead>\n",
       "  <tbody>\n",
       "    <tr>\n",
       "      <th>745</th>\n",
       "      <td>973</td>\n",
       "      <td>Meet John Doe (1941)</td>\n",
       "      <td>Comedy|Drama</td>\n",
       "      <td>3.900000</td>\n",
       "    </tr>\n",
       "    <tr>\n",
       "      <th>6632</th>\n",
       "      <td>56251</td>\n",
       "      <td>Futurama: Bender's Big Score (2007)</td>\n",
       "      <td>Animation|Comedy|Sci-Fi</td>\n",
       "      <td>3.900000</td>\n",
       "    </tr>\n",
       "    <tr>\n",
       "      <th>101</th>\n",
       "      <td>116</td>\n",
       "      <td>Anne Frank Remembered (1995)</td>\n",
       "      <td>Documentary</td>\n",
       "      <td>3.900000</td>\n",
       "    </tr>\n",
       "    <tr>\n",
       "      <th>5719</th>\n",
       "      <td>27846</td>\n",
       "      <td>Corporation, The (2003)</td>\n",
       "      <td>Documentary</td>\n",
       "      <td>3.900000</td>\n",
       "    </tr>\n",
       "    <tr>\n",
       "      <th>802</th>\n",
       "      <td>1050</td>\n",
       "      <td>Looking for Richard (1996)</td>\n",
       "      <td>Documentary|Drama</td>\n",
       "      <td>3.900000</td>\n",
       "    </tr>\n",
       "    <tr>\n",
       "      <th>3983</th>\n",
       "      <td>5617</td>\n",
       "      <td>Secretary (2002)</td>\n",
       "      <td>Comedy|Drama|Romance</td>\n",
       "      <td>3.900000</td>\n",
       "    </tr>\n",
       "    <tr>\n",
       "      <th>1323</th>\n",
       "      <td>1785</td>\n",
       "      <td>King of New York (1990)</td>\n",
       "      <td>Crime|Thriller</td>\n",
       "      <td>3.900000</td>\n",
       "    </tr>\n",
       "    <tr>\n",
       "      <th>7103</th>\n",
       "      <td>70599</td>\n",
       "      <td>Time Traveler's Wife, The (2009)</td>\n",
       "      <td>Drama|Romance|Sci-Fi</td>\n",
       "      <td>3.900000</td>\n",
       "    </tr>\n",
       "    <tr>\n",
       "      <th>5248</th>\n",
       "      <td>8607</td>\n",
       "      <td>Tokyo Godfathers (2003)</td>\n",
       "      <td>Adventure|Animation|Drama</td>\n",
       "      <td>3.900000</td>\n",
       "    </tr>\n",
       "    <tr>\n",
       "      <th>4677</th>\n",
       "      <td>6985</td>\n",
       "      <td>Passion of Joan of Arc, The (Passion de Jeanne...</td>\n",
       "      <td>Drama</td>\n",
       "      <td>3.900000</td>\n",
       "    </tr>\n",
       "    <tr>\n",
       "      <th>86</th>\n",
       "      <td>97</td>\n",
       "      <td>Hate (Haine, La) (1995)</td>\n",
       "      <td>Crime|Drama</td>\n",
       "      <td>3.900000</td>\n",
       "    </tr>\n",
       "    <tr>\n",
       "      <th>4100</th>\n",
       "      <td>5876</td>\n",
       "      <td>Quiet American, The (2002)</td>\n",
       "      <td>Drama|Thriller|War</td>\n",
       "      <td>3.900000</td>\n",
       "    </tr>\n",
       "    <tr>\n",
       "      <th>4298</th>\n",
       "      <td>6283</td>\n",
       "      <td>Cowboy Bebop: The Movie (Cowboy Bebop: Tengoku...</td>\n",
       "      <td>Action|Animation|Sci-Fi|Thriller</td>\n",
       "      <td>3.900000</td>\n",
       "    </tr>\n",
       "    <tr>\n",
       "      <th>8533</th>\n",
       "      <td>114935</td>\n",
       "      <td>Predestination (2014)</td>\n",
       "      <td>Action|Mystery|Sci-Fi|Thriller</td>\n",
       "      <td>3.900000</td>\n",
       "    </tr>\n",
       "    <tr>\n",
       "      <th>7946</th>\n",
       "      <td>95858</td>\n",
       "      <td>For the Birds (2000)</td>\n",
       "      <td>Animation|Children|Comedy</td>\n",
       "      <td>3.900000</td>\n",
       "    </tr>\n",
       "    <tr>\n",
       "      <th>1630</th>\n",
       "      <td>2176</td>\n",
       "      <td>Rope (1948)</td>\n",
       "      <td>Crime|Drama|Thriller</td>\n",
       "      <td>3.900000</td>\n",
       "    </tr>\n",
       "    <tr>\n",
       "      <th>3016</th>\n",
       "      <td>4034</td>\n",
       "      <td>Traffic (2000)</td>\n",
       "      <td>Crime|Drama|Thriller</td>\n",
       "      <td>3.900000</td>\n",
       "    </tr>\n",
       "    <tr>\n",
       "      <th>4702</th>\n",
       "      <td>7018</td>\n",
       "      <td>Presumed Innocent (1990)</td>\n",
       "      <td>Crime|Drama|Thriller</td>\n",
       "      <td>3.900000</td>\n",
       "    </tr>\n",
       "    <tr>\n",
       "      <th>2156</th>\n",
       "      <td>2871</td>\n",
       "      <td>Deliverance (1972)</td>\n",
       "      <td>Adventure|Drama|Thriller</td>\n",
       "      <td>3.900000</td>\n",
       "    </tr>\n",
       "    <tr>\n",
       "      <th>9710</th>\n",
       "      <td>187595</td>\n",
       "      <td>Solo: A Star Wars Story (2018)</td>\n",
       "      <td>Action|Adventure|Children|Sci-Fi</td>\n",
       "      <td>3.900000</td>\n",
       "    </tr>\n",
       "    <tr>\n",
       "      <th>1051</th>\n",
       "      <td>1366</td>\n",
       "      <td>Crucible, The (1996)</td>\n",
       "      <td>Drama</td>\n",
       "      <td>3.900000</td>\n",
       "    </tr>\n",
       "    <tr>\n",
       "      <th>6613</th>\n",
       "      <td>55820</td>\n",
       "      <td>No Country for Old Men (2007)</td>\n",
       "      <td>Crime|Drama</td>\n",
       "      <td>3.898438</td>\n",
       "    </tr>\n",
       "    <tr>\n",
       "      <th>939</th>\n",
       "      <td>1240</td>\n",
       "      <td>Terminator, The (1984)</td>\n",
       "      <td>Action|Sci-Fi|Thriller</td>\n",
       "      <td>3.896947</td>\n",
       "    </tr>\n",
       "    <tr>\n",
       "      <th>267</th>\n",
       "      <td>307</td>\n",
       "      <td>Three Colors: Blue (Trois couleurs: Bleu) (1993)</td>\n",
       "      <td>Drama</td>\n",
       "      <td>3.895833</td>\n",
       "    </tr>\n",
       "    <tr>\n",
       "      <th>599</th>\n",
       "      <td>745</td>\n",
       "      <td>Wallace &amp; Gromit: A Close Shave (1995)</td>\n",
       "      <td>Animation|Children|Comedy</td>\n",
       "      <td>3.895833</td>\n",
       "    </tr>\n",
       "    <tr>\n",
       "      <th>706</th>\n",
       "      <td>924</td>\n",
       "      <td>2001: A Space Odyssey (1968)</td>\n",
       "      <td>Adventure|Drama|Sci-Fi</td>\n",
       "      <td>3.894495</td>\n",
       "    </tr>\n",
       "    <tr>\n",
       "      <th>2078</th>\n",
       "      <td>2762</td>\n",
       "      <td>Sixth Sense, The (1999)</td>\n",
       "      <td>Drama|Horror|Mystery</td>\n",
       "      <td>3.893855</td>\n",
       "    </tr>\n",
       "    <tr>\n",
       "      <th>1608</th>\n",
       "      <td>2150</td>\n",
       "      <td>Gods Must Be Crazy, The (1980)</td>\n",
       "      <td>Adventure|Comedy</td>\n",
       "      <td>3.892857</td>\n",
       "    </tr>\n",
       "    <tr>\n",
       "      <th>5165</th>\n",
       "      <td>8366</td>\n",
       "      <td>Saved! (2004)</td>\n",
       "      <td>Comedy|Drama</td>\n",
       "      <td>3.892857</td>\n",
       "    </tr>\n",
       "    <tr>\n",
       "      <th>1432</th>\n",
       "      <td>1955</td>\n",
       "      <td>Kramer vs. Kramer (1979)</td>\n",
       "      <td>Drama</td>\n",
       "      <td>3.892857</td>\n",
       "    </tr>\n",
       "    <tr>\n",
       "      <th>2191</th>\n",
       "      <td>2912</td>\n",
       "      <td>Limey, The (1999)</td>\n",
       "      <td>Crime|Drama|Thriller</td>\n",
       "      <td>3.892857</td>\n",
       "    </tr>\n",
       "    <tr>\n",
       "      <th>5572</th>\n",
       "      <td>26776</td>\n",
       "      <td>Porco Rosso (Crimson Pig) (Kurenai no buta) (1...</td>\n",
       "      <td>Adventure|Animation|Comedy|Fantasy|Romance</td>\n",
       "      <td>3.892857</td>\n",
       "    </tr>\n",
       "    <tr>\n",
       "      <th>198</th>\n",
       "      <td>232</td>\n",
       "      <td>Eat Drink Man Woman (Yin shi nan nu) (1994)</td>\n",
       "      <td>Comedy|Drama|Romance</td>\n",
       "      <td>3.892857</td>\n",
       "    </tr>\n",
       "    <tr>\n",
       "      <th>9223</th>\n",
       "      <td>152081</td>\n",
       "      <td>Zootopia (2016)</td>\n",
       "      <td>Action|Adventure|Animation|Children|Comedy</td>\n",
       "      <td>3.890625</td>\n",
       "    </tr>\n",
       "    <tr>\n",
       "      <th>5885</th>\n",
       "      <td>33166</td>\n",
       "      <td>Crash (2004)</td>\n",
       "      <td>Crime|Drama</td>\n",
       "      <td>3.890000</td>\n",
       "    </tr>\n",
       "    <tr>\n",
       "      <th>3564</th>\n",
       "      <td>4880</td>\n",
       "      <td>Life as a House (2001)</td>\n",
       "      <td>Drama</td>\n",
       "      <td>3.888889</td>\n",
       "    </tr>\n",
       "    <tr>\n",
       "      <th>4258</th>\n",
       "      <td>6214</td>\n",
       "      <td>Irreversible (Irréversible) (2002)</td>\n",
       "      <td>Crime|Drama|Mystery|Thriller</td>\n",
       "      <td>3.888889</td>\n",
       "    </tr>\n",
       "    <tr>\n",
       "      <th>6884</th>\n",
       "      <td>63072</td>\n",
       "      <td>Road, The (2009)</td>\n",
       "      <td>Adventure|Drama|Thriller</td>\n",
       "      <td>3.888889</td>\n",
       "    </tr>\n",
       "    <tr>\n",
       "      <th>7078</th>\n",
       "      <td>69844</td>\n",
       "      <td>Harry Potter and the Half-Blood Prince (2009)</td>\n",
       "      <td>Adventure|Fantasy|Mystery|Romance|IMAX</td>\n",
       "      <td>3.887931</td>\n",
       "    </tr>\n",
       "    <tr>\n",
       "      <th>785</th>\n",
       "      <td>1028</td>\n",
       "      <td>Mary Poppins (1964)</td>\n",
       "      <td>Children|Comedy|Fantasy|Musical</td>\n",
       "      <td>3.887324</td>\n",
       "    </tr>\n",
       "    <tr>\n",
       "      <th>7413</th>\n",
       "      <td>80463</td>\n",
       "      <td>Social Network, The (2010)</td>\n",
       "      <td>Drama</td>\n",
       "      <td>3.885965</td>\n",
       "    </tr>\n",
       "    <tr>\n",
       "      <th>6151</th>\n",
       "      <td>44191</td>\n",
       "      <td>V for Vendetta (2006)</td>\n",
       "      <td>Action|Sci-Fi|Thriller|IMAX</td>\n",
       "      <td>3.885000</td>\n",
       "    </tr>\n",
       "    <tr>\n",
       "      <th>7688</th>\n",
       "      <td>89492</td>\n",
       "      <td>Moneyball (2011)</td>\n",
       "      <td>Drama</td>\n",
       "      <td>3.884615</td>\n",
       "    </tr>\n",
       "    <tr>\n",
       "      <th>6223</th>\n",
       "      <td>45728</td>\n",
       "      <td>Clerks II (2006)</td>\n",
       "      <td>Comedy</td>\n",
       "      <td>3.884615</td>\n",
       "    </tr>\n",
       "    <tr>\n",
       "      <th>912</th>\n",
       "      <td>1211</td>\n",
       "      <td>Wings of Desire (Himmel über Berlin, Der) (1987)</td>\n",
       "      <td>Drama|Fantasy|Romance</td>\n",
       "      <td>3.884615</td>\n",
       "    </tr>\n",
       "    <tr>\n",
       "      <th>6242</th>\n",
       "      <td>46578</td>\n",
       "      <td>Little Miss Sunshine (2006)</td>\n",
       "      <td>Adventure|Comedy|Drama</td>\n",
       "      <td>3.883117</td>\n",
       "    </tr>\n",
       "    <tr>\n",
       "      <th>1230</th>\n",
       "      <td>1635</td>\n",
       "      <td>Ice Storm, The (1997)</td>\n",
       "      <td>Drama</td>\n",
       "      <td>3.882353</td>\n",
       "    </tr>\n",
       "    <tr>\n",
       "      <th>225</th>\n",
       "      <td>261</td>\n",
       "      <td>Little Women (1994)</td>\n",
       "      <td>Drama</td>\n",
       "      <td>3.880952</td>\n",
       "    </tr>\n",
       "    <tr>\n",
       "      <th>701</th>\n",
       "      <td>919</td>\n",
       "      <td>Wizard of Oz, The (1939)</td>\n",
       "      <td>Adventure|Children|Fantasy|Musical</td>\n",
       "      <td>3.880435</td>\n",
       "    </tr>\n",
       "    <tr>\n",
       "      <th>968</th>\n",
       "      <td>1269</td>\n",
       "      <td>Arsenic and Old Lace (1944)</td>\n",
       "      <td>Comedy|Mystery|Thriller</td>\n",
       "      <td>3.879310</td>\n",
       "    </tr>\n",
       "  </tbody>\n",
       "</table>\n",
       "</div>"
      ],
      "text/plain": [
       "      filmeId                                             titulo  \\\n",
       "745       973                               Meet John Doe (1941)   \n",
       "6632    56251                Futurama: Bender's Big Score (2007)   \n",
       "101       116                       Anne Frank Remembered (1995)   \n",
       "5719    27846                            Corporation, The (2003)   \n",
       "802      1050                         Looking for Richard (1996)   \n",
       "3983     5617                                   Secretary (2002)   \n",
       "1323     1785                            King of New York (1990)   \n",
       "7103    70599                   Time Traveler's Wife, The (2009)   \n",
       "5248     8607                            Tokyo Godfathers (2003)   \n",
       "4677     6985  Passion of Joan of Arc, The (Passion de Jeanne...   \n",
       "86         97                            Hate (Haine, La) (1995)   \n",
       "4100     5876                         Quiet American, The (2002)   \n",
       "4298     6283  Cowboy Bebop: The Movie (Cowboy Bebop: Tengoku...   \n",
       "8533   114935                              Predestination (2014)   \n",
       "7946    95858                               For the Birds (2000)   \n",
       "1630     2176                                        Rope (1948)   \n",
       "3016     4034                                     Traffic (2000)   \n",
       "4702     7018                           Presumed Innocent (1990)   \n",
       "2156     2871                                 Deliverance (1972)   \n",
       "9710   187595                     Solo: A Star Wars Story (2018)   \n",
       "1051     1366                               Crucible, The (1996)   \n",
       "6613    55820                      No Country for Old Men (2007)   \n",
       "939      1240                             Terminator, The (1984)   \n",
       "267       307   Three Colors: Blue (Trois couleurs: Bleu) (1993)   \n",
       "599       745             Wallace & Gromit: A Close Shave (1995)   \n",
       "706       924                       2001: A Space Odyssey (1968)   \n",
       "2078     2762                            Sixth Sense, The (1999)   \n",
       "1608     2150                     Gods Must Be Crazy, The (1980)   \n",
       "5165     8366                                      Saved! (2004)   \n",
       "1432     1955                           Kramer vs. Kramer (1979)   \n",
       "2191     2912                                  Limey, The (1999)   \n",
       "5572    26776  Porco Rosso (Crimson Pig) (Kurenai no buta) (1...   \n",
       "198       232        Eat Drink Man Woman (Yin shi nan nu) (1994)   \n",
       "9223   152081                                    Zootopia (2016)   \n",
       "5885    33166                                       Crash (2004)   \n",
       "3564     4880                             Life as a House (2001)   \n",
       "4258     6214                 Irreversible (Irréversible) (2002)   \n",
       "6884    63072                                   Road, The (2009)   \n",
       "7078    69844      Harry Potter and the Half-Blood Prince (2009)   \n",
       "785      1028                                Mary Poppins (1964)   \n",
       "7413    80463                         Social Network, The (2010)   \n",
       "6151    44191                              V for Vendetta (2006)   \n",
       "7688    89492                                   Moneyball (2011)   \n",
       "6223    45728                                   Clerks II (2006)   \n",
       "912      1211   Wings of Desire (Himmel über Berlin, Der) (1987)   \n",
       "6242    46578                        Little Miss Sunshine (2006)   \n",
       "1230     1635                              Ice Storm, The (1997)   \n",
       "225       261                                Little Women (1994)   \n",
       "701       919                           Wizard of Oz, The (1939)   \n",
       "968      1269                        Arsenic and Old Lace (1944)   \n",
       "\n",
       "                                         generos      nota  \n",
       "745                                 Comedy|Drama  3.900000  \n",
       "6632                     Animation|Comedy|Sci-Fi  3.900000  \n",
       "101                                  Documentary  3.900000  \n",
       "5719                                 Documentary  3.900000  \n",
       "802                            Documentary|Drama  3.900000  \n",
       "3983                        Comedy|Drama|Romance  3.900000  \n",
       "1323                              Crime|Thriller  3.900000  \n",
       "7103                        Drama|Romance|Sci-Fi  3.900000  \n",
       "5248                   Adventure|Animation|Drama  3.900000  \n",
       "4677                                       Drama  3.900000  \n",
       "86                                   Crime|Drama  3.900000  \n",
       "4100                          Drama|Thriller|War  3.900000  \n",
       "4298            Action|Animation|Sci-Fi|Thriller  3.900000  \n",
       "8533              Action|Mystery|Sci-Fi|Thriller  3.900000  \n",
       "7946                   Animation|Children|Comedy  3.900000  \n",
       "1630                        Crime|Drama|Thriller  3.900000  \n",
       "3016                        Crime|Drama|Thriller  3.900000  \n",
       "4702                        Crime|Drama|Thriller  3.900000  \n",
       "2156                    Adventure|Drama|Thriller  3.900000  \n",
       "9710            Action|Adventure|Children|Sci-Fi  3.900000  \n",
       "1051                                       Drama  3.900000  \n",
       "6613                                 Crime|Drama  3.898438  \n",
       "939                       Action|Sci-Fi|Thriller  3.896947  \n",
       "267                                        Drama  3.895833  \n",
       "599                    Animation|Children|Comedy  3.895833  \n",
       "706                       Adventure|Drama|Sci-Fi  3.894495  \n",
       "2078                        Drama|Horror|Mystery  3.893855  \n",
       "1608                            Adventure|Comedy  3.892857  \n",
       "5165                                Comedy|Drama  3.892857  \n",
       "1432                                       Drama  3.892857  \n",
       "2191                        Crime|Drama|Thriller  3.892857  \n",
       "5572  Adventure|Animation|Comedy|Fantasy|Romance  3.892857  \n",
       "198                         Comedy|Drama|Romance  3.892857  \n",
       "9223  Action|Adventure|Animation|Children|Comedy  3.890625  \n",
       "5885                                 Crime|Drama  3.890000  \n",
       "3564                                       Drama  3.888889  \n",
       "4258                Crime|Drama|Mystery|Thriller  3.888889  \n",
       "6884                    Adventure|Drama|Thriller  3.888889  \n",
       "7078      Adventure|Fantasy|Mystery|Romance|IMAX  3.887931  \n",
       "785              Children|Comedy|Fantasy|Musical  3.887324  \n",
       "7413                                       Drama  3.885965  \n",
       "6151                 Action|Sci-Fi|Thriller|IMAX  3.885000  \n",
       "7688                                       Drama  3.884615  \n",
       "6223                                      Comedy  3.884615  \n",
       "912                        Drama|Fantasy|Romance  3.884615  \n",
       "6242                      Adventure|Comedy|Drama  3.883117  \n",
       "1230                                       Drama  3.882353  \n",
       "225                                        Drama  3.880952  \n",
       "701           Adventure|Children|Fantasy|Musical  3.880435  \n",
       "968                      Comedy|Mystery|Thriller  3.879310  "
      ]
     },
     "execution_count": 19,
     "metadata": {},
     "output_type": "execute_result"
    }
   ],
   "source": [
    "filmes_com_media.sort_values(\"nota\", ascending=False)[2450:2500]"
   ]
  },
  {
   "cell_type": "markdown",
   "metadata": {},
   "source": [
    "Bom, ordenando os filmes pela nota médias e <a href=\"https://www.alura.com.br/artigos/listas-no-python\">fatiando</a> os dados entre 2450 e 2500, temos uma região onde as médias são semelhates e provavelmente não tem apenas um único voto. Vamos comparar o fime Wizard of Oz, <b>filmeId=919</b> e *Little Miss Sunshine <b>filmeId=46578</b>.\n",
    "\n",
    "Para não precisar copiar e colar toda hora o plot dos gráficos vamos criar nossa primeira função, assim passamos apenas o FilmeId e temos as informações desejadas."
   ]
  },
  {
   "cell_type": "code",
   "execution_count": 20,
   "metadata": {},
   "outputs": [],
   "source": [
    "def plot_filme(n):\n",
    "    notas_do_filme = avaliacoes.query(f\"filmeId=={n}\")[\"nota\"]\n",
    "    notas_do_filme.plot(kind='hist')\n",
    "    return notas_do_filme.describe()"
   ]
  },
  {
   "cell_type": "markdown",
   "metadata": {},
   "source": [
    "Definimos nossa <a href=\"https://www.caelum.com.br/apostila-python-orientacao-objetos/funcoes/#parmetros-de-funo\">função plot em python</a> e repare que estamos usando **F-string** para fazer a interpolação dos dados, se tiver dúvida veja essa <a href=\"https://cursos.alura.com.br/forum/topico-para-que-serve-o-print-f-no-python-77720\">explicação no fórum de alura</a>.\n",
    "Agora precisamos chamar a função!"
   ]
  },
  {
   "cell_type": "code",
   "execution_count": 21,
   "metadata": {},
   "outputs": [
    {
     "data": {
      "text/plain": [
       "count    92.000000\n",
       "mean      3.880435\n",
       "std       1.025418\n",
       "min       1.000000\n",
       "25%       3.000000\n",
       "50%       4.000000\n",
       "75%       5.000000\n",
       "max       5.000000\n",
       "Name: nota, dtype: float64"
      ]
     },
     "execution_count": 21,
     "metadata": {},
     "output_type": "execute_result"
    },
    {
     "data": {
      "image/png": "[encoded data removed]",
      "text/plain": [
       "<Figure size 432x288 with 1 Axes>"
      ]
     },
     "metadata": {},
     "output_type": "display_data"
    }
   ],
   "source": [
    "# Mágico de Oz\n",
    "plot_filme(919)"
   ]
  },
  {
   "cell_type": "markdown",
   "metadata": {},
   "source": [
    "A função plot, além de gerar o histograma também retorna algumas estatísticas. Vamos chamar a função agora para o filme *Little Miss Sunshine*"
   ]
  },
  {
   "cell_type": "code",
   "execution_count": 22,
   "metadata": {},
   "outputs": [
    {
     "data": {
      "text/plain": [
       "count    77.000000\n",
       "mean      3.883117\n",
       "std       0.842522\n",
       "min       1.000000\n",
       "25%       3.500000\n",
       "50%       4.000000\n",
       "75%       4.500000\n",
       "max       5.000000\n",
       "Name: nota, dtype: float64"
      ]
     },
     "execution_count": 22,
     "metadata": {},
     "output_type": "execute_result"
    },
    {
     "data": {
      "image/png": "[encoded data removed]",
      "text/plain": [
       "<Figure size 432x288 with 1 Axes>"
      ]
     },
     "metadata": {},
     "output_type": "display_data"
    }
   ],
   "source": [
    "plot_filme(46578)"
   ]
  },
  {
   "cell_type": "markdown",
   "metadata": {},
   "source": [
    "Ótimo, agora com essas informações conseguimos comparar melhor ambos os filmes. Analisando os histogramas vemos que muitas pessoas amam **Wizard of Oz** (notas 5), mas também temos pessoas que não gostam de forma alguma (notas 1). Quando comparamos com o histgrama temos um do **Little Miss Sunshine**, percebemos que os resultados se concentram entre valores medianos (notas 2.5-4).\n",
    "\n",
    "O que confirma nossa análise aqui é comparar os **25%**, **50%** e **75%**. 50% é o valor da mediana, e ambos os filmes tem a mesma mediana, mas 25% e 75% são diferentes. Se você lembra da estatísitca esses são os <a href=\"https://pt.wikipedia.org/wiki/Quartil\">1º, 2º e 3º quartis</a>.\n",
    "\n",
    "Olha, mesclar os gráficos com as estatísticas ajuda a interpretar melhor os dados. Mas o que precisamos é uma imagem que nos ajude a interpretar os dados ainda melhor, o gráfico que nos ajuda neste caso e o **Boxplot**. Vamos adaptar nossa função para conseguir plotar o boxplot e interpretá-lo."
   ]
  },
  {
   "cell_type": "code",
   "execution_count": 23,
   "metadata": {},
   "outputs": [
    {
     "data": {
      "image/png": "[encoded data removed]",
      "text/plain": [
       "<Figure size 432x288 with 1 Axes>"
      ]
     },
     "metadata": {},
     "output_type": "display_data"
    },
    {
     "name": "stdout",
     "output_type": "stream",
     "text": [
      "\n",
      "\n"
     ]
    },
    {
     "data": {
      "image/png": "[encoded data removed]",
      "text/plain": [
       "<Figure size 432x288 with 1 Axes>"
      ]
     },
     "metadata": {},
     "output_type": "display_data"
    },
    {
     "data": {
      "text/plain": [
       "count    92.000000\n",
       "mean      3.880435\n",
       "std       1.025418\n",
       "min       1.000000\n",
       "25%       3.000000\n",
       "50%       4.000000\n",
       "75%       5.000000\n",
       "max       5.000000\n",
       "Name: nota, dtype: float64"
      ]
     },
     "execution_count": 23,
     "metadata": {},
     "output_type": "execute_result"
    }
   ],
   "source": [
    "def plot_filme(n):\n",
    "    notas_do_filme = avaliacoes.query(f\"filmeId=={n}\")[\"nota\"]\n",
    "    notas_do_filme.plot(kind='hist')\n",
    "    plt.show()\n",
    "    print('\\n')\n",
    "    notas_do_filme.plot.box()\n",
    "    plt.show()\n",
    "    return notas_do_filme.describe()\n",
    "\n",
    "plot_filme(919)"
   ]
  },
  {
   "cell_type": "markdown",
   "metadata": {},
   "source": [
    "E aí, viu como é simples criar criar um <a href=\"https://pandas.pydata.org/pandas-docs/stable/reference/api/pandas.DataFrame.plot.box.html\">boxplot com o pandas</a>?\n",
    "\n",
    "Apenas chamamos o método ```.plot.box()```, agora o que precisamos fazer é interpretar este gráfico.\n",
    "\n",
    "Vamos focar primeiro na \"caixa\" a linha verde que divide a caixa em dois é a mediana (compare com as estatísticas geradas pelo discribe()), a parte superior da caixa é o 3° Quartil (75%) e a parte inferior é o 1° Quartil (25%).\n",
    "\n",
    "Agora repare nos limites inferior e superior, represetados pelas extremidades em preto. Por coincidência, nesta imagem os limites inferior e superior são equivalentes ao ponto de máximo e mínimo, mas nem sempre será assim, pois esse limite superir e inferior são calculados e dependem de Q1 e Q3. Algumas vezes os limites podem sobrepor os extremos das \"caixas\" e isso geralmente ocorre quando temos uma quantidade pequena de dados.\n",
    "\n",
    "Como tivemos sobreposição do limite superior vamos calcular o boxplot de outro filme, para analisar o resultado."
   ]
  },
  {
   "cell_type": "code",
   "execution_count": 24,
   "metadata": {},
   "outputs": [
    {
     "data": {
      "image/png": "[encoded data removed]",
      "text/plain": [
       "<Figure size 432x288 with 1 Axes>"
      ]
     },
     "metadata": {},
     "output_type": "display_data"
    },
    {
     "name": "stdout",
     "output_type": "stream",
     "text": [
      "\n",
      "\n"
     ]
    },
    {
     "data": {
      "image/png": "[encoded data removed]",
      "text/plain": [
       "<Figure size 432x288 with 1 Axes>"
      ]
     },
     "metadata": {},
     "output_type": "display_data"
    },
    {
     "data": {
      "text/plain": [
       "count    77.000000\n",
       "mean      3.883117\n",
       "std       0.842522\n",
       "min       1.000000\n",
       "25%       3.500000\n",
       "50%       4.000000\n",
       "75%       4.500000\n",
       "max       5.000000\n",
       "Name: nota, dtype: float64"
      ]
     },
     "execution_count": 24,
     "metadata": {},
     "output_type": "execute_result"
    }
   ],
   "source": [
    "plot_filme(46578)"
   ]
  },
  {
   "cell_type": "markdown",
   "metadata": {},
   "source": [
    "Olha que legal, diferente do primeiro boxplot, neste os limites superiores não se sobrepõe e temos uma informação a mais, no caso temos essa bolinha localizada em **y=1**. A \"bolinha\" chamamos de valor discrepante, por ir além dos limites inferior e superior (chamamos na aula de <a href=\"https://pt.wikipedia.org/wiki/Outlier\">outliers</a>, existem várias formas de calcular os outliers, mas no nosso caso esses são os outliers do boxplot).\n",
    "\n",
    "Não vamos entrar em todos os detalhes do boxplot mas recomendo a explicação do <a href=\"https://pt.wikipedia.org/wiki/Diagrama_de_caixa\">wikipedia</a>, ela é muito completa, cheias de exemplo e imagens para facilitar o entendimento.\n",
    "\n",
    "Agora comparando os boxplot dos dois filmes deixa muito mais evidente as diferenças entre elas, o que ficava complexo olhando só médias e outras informações separadas.\n",
    "\n",
    "Embora melhoramos muito nossa qualidade de análise ainda temos mais um ponto. Estamos comparando os boxplot dos filmes, mas eles estão em imagens separadas, vamos juntas vários boxplot em uma imagem só. Veja como podemos fazer isso usando o **seaborn**, para aprendermos outra forma de plotar boxplot!"
   ]
  },
  {
   "cell_type": "code",
   "execution_count": 25,
   "metadata": {},
   "outputs": [
    {
     "data": {
      "text/plain": [
       "<matplotlib.axes._subplots.AxesSubplot at 0x1f48772f7f0>"
      ]
     },
     "execution_count": 25,
     "metadata": {},
     "output_type": "execute_result"
    },
    {
     "data": {
      "image/png": "[encoded data removed]",
      "text/plain": [
       "<Figure size 432x288 with 1 Axes>"
      ]
     },
     "metadata": {},
     "output_type": "display_data"
    }
   ],
   "source": [
    "sns.boxplot(data = avaliacoes.query(\"filmeId in [1,2,919,46578]\"), x = \"filmeId\", y = \"nota\")"
   ]
  },
  {
   "cell_type": "markdown",
   "metadata": {},
   "source": [
    "Chamamos o ```sns.boxplot()``` passando três parâmetros. Parâmetro dados é um dataframe das notas dos filmes com Toy Story, Jumanji, Wizard of Oz e Little miss sunshine (usamos o ```.query()``` para selecionar os dados), **x** é o Id do filme e **y** as respectivas notas. Agora conseguimos comparar as notas dos filmes de forma muito mais claram tente realiza a análise aí na sua casa!\n",
    "\n",
    "Com isso nós fechamos nossa segunda aula do **#quarentenadados**, viu quanta coisa aprendemos? Que tal colocar isso em prática?\n",
    "\n",
    "**Crie seu próprio notebook, reproduza nossa aula e resolva os desafios que deixamos para vocês.**\n",
    "\n",
    "Até a próxima aula!"
   ]
  },
  {
   "cell_type": "markdown",
   "metadata": {},
   "source": [
    "# Desafio 1 do Guilherme Silveira\n",
    "Relacionar os thicks (os nomes dos gêneros) do gráfico de barras verdes (o último), de forma a deixar as legendas mais legíveis."
   ]
  },
  {
   "cell_type": "code",
   "execution_count": 26,
   "metadata": {},
   "outputs": [
    {
     "data": {
      "image/png": "[encoded data removed]",
      "text/plain": [
       "<Figure size 1152x576 with 1 Axes>"
      ]
     },
     "metadata": {},
     "output_type": "display_data"
    }
   ],
   "source": [
    "# Plotando o gráfico novamente\n",
    "sns.set_style(\"whitegrid\")\n",
    "\n",
    "filmes_por_genero = filmes[\"generos\"].str.get_dummies('|').sum().sort_values(ascending=False)\n",
    "plt.figure(figsize=(16,8))\n",
    "\n",
    "# Atribuindo as configurações do gráfico à uma variável\n",
    "bar_chart = sns.barplot(x=filmes_por_genero.index,\n",
    "                y=filmes_por_genero.values,\n",
    "                palette=sns.color_palette(\"BuGn_r\", n_colors=len(filmes_por_genero) + 4))\n",
    "\n",
    "# Adicionando a configuração da label do eixo x e rotacionando em 90 graus\n",
    "bar_chart.set_xticklabels(filmes_por_genero.index, rotation=90)\n",
    "plt.show()"
   ]
  },
  {
   "cell_type": "markdown",
   "metadata": {},
   "source": [
    "# Desafio 2 do Paulo Silveira\n",
    "Encontrar vários filmes com médias próximas e distribuições diferentes, use a função **plot_filmes(n)** para plotar."
   ]
  },
  {
   "cell_type": "code",
   "execution_count": 132,
   "metadata": {},
   "outputs": [
    {
     "data": {
      "image/png": "[encoded data removed]",
      "text/plain": [
       "<Figure size 432x288 with 1 Axes>"
      ]
     },
     "metadata": {},
     "output_type": "display_data"
    },
    {
     "name": "stdout",
     "output_type": "stream",
     "text": [
      "\n",
      "\n"
     ]
    },
    {
     "data": {
      "image/png": "[encoded data removed]",
      "text/plain": [
       "<Figure size 432x288 with 1 Axes>"
      ]
     },
     "metadata": {},
     "output_type": "display_data"
    },
    {
     "name": "stdout",
     "output_type": "stream",
     "text": [
      "count    215.000000\n",
      "mean       3.920930\n",
      "std        0.834859\n",
      "min        0.500000\n",
      "25%        3.500000\n",
      "50%        4.000000\n",
      "75%        4.500000\n",
      "max        5.000000\n",
      "Name: nota, dtype: float64\n"
     ]
    },
    {
     "data": {
      "image/png": "[encoded data removed]",
      "text/plain": [
       "<Figure size 432x288 with 1 Axes>"
      ]
     },
     "metadata": {},
     "output_type": "display_data"
    },
    {
     "name": "stdout",
     "output_type": "stream",
     "text": [
      "\n",
      "\n"
     ]
    },
    {
     "data": {
      "image/png": "[encoded data removed]",
      "text/plain": [
       "<Figure size 432x288 with 1 Axes>"
      ]
     },
     "metadata": {},
     "output_type": "display_data"
    },
    {
     "name": "stdout",
     "output_type": "stream",
     "text": [
      "count    102.000000\n",
      "mean       3.946078\n",
      "std        0.817224\n",
      "min        1.000000\n",
      "25%        3.125000\n",
      "50%        4.000000\n",
      "75%        4.500000\n",
      "max        5.000000\n",
      "Name: nota, dtype: float64\n"
     ]
    },
    {
     "data": {
      "image/png": "[encoded data removed]",
      "text/plain": [
       "<Figure size 432x288 with 1 Axes>"
      ]
     },
     "metadata": {},
     "output_type": "display_data"
    },
    {
     "name": "stdout",
     "output_type": "stream",
     "text": [
      "\n",
      "\n"
     ]
    },
    {
     "data": {
      "image/png": "[encoded data removed]",
      "text/plain": [
       "<Figure size 432x288 with 1 Axes>"
      ]
     },
     "metadata": {},
     "output_type": "display_data"
    },
    {
     "name": "stdout",
     "output_type": "stream",
     "text": [
      "count    70.000000\n",
      "mean      3.671429\n",
      "std       0.900425\n",
      "min       1.000000\n",
      "25%       3.000000\n",
      "50%       4.000000\n",
      "75%       4.000000\n",
      "max       5.000000\n",
      "Name: nota, dtype: float64\n"
     ]
    },
    {
     "data": {
      "image/png": "[encoded data removed]",
      "text/plain": [
       "<Figure size 432x288 with 1 Axes>"
      ]
     },
     "metadata": {},
     "output_type": "display_data"
    },
    {
     "name": "stdout",
     "output_type": "stream",
     "text": [
      "\n",
      "\n"
     ]
    },
    {
     "data": {
      "image/png": "[encoded data removed]",
      "text/plain": [
       "<Figure size 432x288 with 1 Axes>"
      ]
     },
     "metadata": {},
     "output_type": "display_data"
    },
    {
     "name": "stdout",
     "output_type": "stream",
     "text": [
      "count    18.000000\n",
      "mean      3.833333\n",
      "std       0.707107\n",
      "min       3.000000\n",
      "25%       3.000000\n",
      "50%       4.000000\n",
      "75%       4.000000\n",
      "max       5.000000\n",
      "Name: nota, dtype: float64\n"
     ]
    },
    {
     "data": {
      "image/png": "[encoded data removed]",
      "text/plain": [
       "<Figure size 432x288 with 1 Axes>"
      ]
     },
     "metadata": {},
     "output_type": "display_data"
    },
    {
     "name": "stdout",
     "output_type": "stream",
     "text": [
      "\n",
      "\n"
     ]
    },
    {
     "data": {
      "image/png": "[encoded data removed]",
      "text/plain": [
       "<Figure size 432x288 with 1 Axes>"
      ]
     },
     "metadata": {},
     "output_type": "display_data"
    },
    {
     "name": "stdout",
     "output_type": "stream",
     "text": [
      "count    82.000000\n",
      "mean      3.926829\n",
      "std       0.885835\n",
      "min       1.000000\n",
      "25%       3.500000\n",
      "50%       4.000000\n",
      "75%       4.500000\n",
      "max       5.000000\n",
      "Name: nota, dtype: float64\n"
     ]
    }
   ],
   "source": [
    "import random as r\n",
    "import numpy as np\n",
    "\n",
    "# Modificando a função plot_filme para colocar o título de cada filme no gráfico\n",
    "def plot_filme(n):\n",
    "    titulo = filmes_com_media.query(f\"filmeId=={n}\")[\"titulo\"].to_string()\n",
    "    notas_do_filme = avaliacoes.query(f\"filmeId=={n}\")[\"nota\"]\n",
    "    notas_do_filme.plot(kind='hist')\n",
    "    plt.title(titulo)\n",
    "    plt.show()\n",
    "    print('\\n')\n",
    "    notas_do_filme.plot.box()\n",
    "    plt.title(titulo)\n",
    "    plt.show()\n",
    "    return notas_do_filme.describe()\n",
    "\n",
    "# Extraindo o DF Filmes com Media retirando os filmes que não possuem notas\n",
    "filmes_com_media = filmes.join(notas_medias_por_filme, on=\"filmeId\").query(\"nota != 'NaN'\")\n",
    "\n",
    "# Função para buscar filmes aleatórios com uma nota média parecida\n",
    "def filmes_aleatorios():\n",
    "    # Escolhendo um filme de forma aleatória e pegando a nota dele\n",
    "    rand_nota = filmes_com_media.sample()[\"nota\"]\n",
    "\n",
    "    # Selecionando e retornando os 5 primeiros filmes que possuem nota média no range de notas gerado\n",
    "    return filmes_com_media.query(\"nota >= @rand_nota-0.2 and nota <= @rand_nota+0.2\")[:5]\n",
    "\n",
    "# Há a possibilidade de só haver 1 filme no range de notas gerado,\n",
    "# Portanto repetiremos a função filmes_aleatorios até q o retorno seja maior q 1\n",
    "filmes_a_avaliar = filmes_aleatorios()\n",
    "while (len(filmes_a_avaliar) <= 1):\n",
    "    filmes_a_avaliar = filmes_aleatorios()\n",
    "\n",
    "# Plotando todos os filmes dentro do df filmes_a_avaliar\n",
    "for x in filmes_a_avaliar[\"filmeId\"]:\n",
    "    print(plot_filme(x))"
   ]
  },
  {
   "cell_type": "markdown",
   "metadata": {},
   "source": [
    "# Desafio 3 do Paulo Silveira\n",
    "Criar o boxplot dos 10 filmes com mais votos (não é com maior média, é com mais votos!). Não apenas plot, mas também analise e tente tirar conclusões"
   ]
  },
  {
   "cell_type": "code",
   "execution_count": 133,
   "metadata": {},
   "outputs": [],
   "source": [
    "# Definindo a função para plotar o gráfico boxplot dado o filmeId\n",
    "def plot_box(n):\n",
    "    titulo = filmes_com_media.query(f\"filmeId=={n}\")[\"titulo\"].to_string()\n",
    "    notas_do_filme = avaliacoes.query(f\"filmeId=={n}\")[\"nota\"]\n",
    "    notas_do_filme.plot.box()\n",
    "    plt.title(titulo)\n",
    "    plt.show()\n",
    "    return notas_do_filme.describe()\n",
    "\n",
    "# Selecionando os filmes com maior número de avaliações\n",
    "filmes_mais_avaliados = avaliacoes.groupby(\"filmeId\").count()[[\"nota\"]].sort_values(\"nota\", ascending=False)\n"
   ]
  },
  {
   "cell_type": "code",
   "execution_count": 134,
   "metadata": {},
   "outputs": [
    {
     "data": {
      "image/png": "[encoded data removed]",
      "text/plain": [
       "<Figure size 432x288 with 1 Axes>"
      ]
     },
     "metadata": {},
     "output_type": "display_data"
    },
    {
     "name": "stdout",
     "output_type": "stream",
     "text": [
      "count    329.000000\n",
      "mean       4.164134\n",
      "std        0.831244\n",
      "min        0.500000\n",
      "25%        4.000000\n",
      "50%        4.000000\n",
      "75%        5.000000\n",
      "max        5.000000\n",
      "Name: nota, dtype: float64\n"
     ]
    },
    {
     "data": {
      "image/png": "[encoded data removed]",
      "text/plain": [
       "<Figure size 432x288 with 1 Axes>"
      ]
     },
     "metadata": {},
     "output_type": "display_data"
    },
    {
     "name": "stdout",
     "output_type": "stream",
     "text": [
      "count    317.000000\n",
      "mean       4.429022\n",
      "std        0.713019\n",
      "min        1.000000\n",
      "25%        4.000000\n",
      "50%        4.500000\n",
      "75%        5.000000\n",
      "max        5.000000\n",
      "Name: nota, dtype: float64\n"
     ]
    },
    {
     "data": {
      "image/png": "[encoded data removed]",
      "text/plain": [
       "<Figure size 432x288 with 1 Axes>"
      ]
     },
     "metadata": {},
     "output_type": "display_data"
    },
    {
     "name": "stdout",
     "output_type": "stream",
     "text": [
      "count    307.000000\n",
      "mean       4.197068\n",
      "std        0.951997\n",
      "min        0.500000\n",
      "25%        4.000000\n",
      "50%        4.500000\n",
      "75%        5.000000\n",
      "max        5.000000\n",
      "Name: nota, dtype: float64\n"
     ]
    },
    {
     "data": {
      "image/png": "[encoded data removed]",
      "text/plain": [
       "<Figure size 432x288 with 1 Axes>"
      ]
     },
     "metadata": {},
     "output_type": "display_data"
    },
    {
     "name": "stdout",
     "output_type": "stream",
     "text": [
      "count    279.000000\n",
      "mean       4.161290\n",
      "std        0.853983\n",
      "min        0.500000\n",
      "25%        4.000000\n",
      "50%        4.000000\n",
      "75%        5.000000\n",
      "max        5.000000\n",
      "Name: nota, dtype: float64\n"
     ]
    },
    {
     "data": {
      "image/png": "[encoded data removed]",
      "text/plain": [
       "<Figure size 432x288 with 1 Axes>"
      ]
     },
     "metadata": {},
     "output_type": "display_data"
    },
    {
     "name": "stdout",
     "output_type": "stream",
     "text": [
      "count    278.000000\n",
      "mean       4.192446\n",
      "std        0.975243\n",
      "min        0.500000\n",
      "25%        4.000000\n",
      "50%        4.500000\n",
      "75%        5.000000\n",
      "max        5.000000\n",
      "Name: nota, dtype: float64\n"
     ]
    },
    {
     "data": {
      "image/png": "[encoded data removed]",
      "text/plain": [
       "<Figure size 432x288 with 1 Axes>"
      ]
     },
     "metadata": {},
     "output_type": "display_data"
    },
    {
     "name": "stdout",
     "output_type": "stream",
     "text": [
      "count    251.000000\n",
      "mean       4.231076\n",
      "std        0.872004\n",
      "min        0.500000\n",
      "25%        4.000000\n",
      "50%        4.500000\n",
      "75%        5.000000\n",
      "max        5.000000\n",
      "Name: nota, dtype: float64\n"
     ]
    },
    {
     "data": {
      "image/png": "[encoded data removed]",
      "text/plain": [
       "<Figure size 432x288 with 1 Axes>"
      ]
     },
     "metadata": {},
     "output_type": "display_data"
    },
    {
     "name": "stdout",
     "output_type": "stream",
     "text": [
      "count    238.000000\n",
      "mean       3.750000\n",
      "std        0.855301\n",
      "min        0.500000\n",
      "25%        3.000000\n",
      "50%        4.000000\n",
      "75%        4.000000\n",
      "max        5.000000\n",
      "Name: nota, dtype: float64\n"
     ]
    },
    {
     "data": {
      "image/png": "[encoded data removed]",
      "text/plain": [
       "<Figure size 432x288 with 1 Axes>"
      ]
     },
     "metadata": {},
     "output_type": "display_data"
    },
    {
     "name": "stdout",
     "output_type": "stream",
     "text": [
      "count    237.000000\n",
      "mean       4.031646\n",
      "std        0.967726\n",
      "min        0.500000\n",
      "25%        3.500000\n",
      "50%        4.000000\n",
      "75%        5.000000\n",
      "max        5.000000\n",
      "Name: nota, dtype: float64\n"
     ]
    },
    {
     "data": {
      "image/png": "[encoded data removed]",
      "text/plain": [
       "<Figure size 432x288 with 1 Axes>"
      ]
     },
     "metadata": {},
     "output_type": "display_data"
    },
    {
     "name": "stdout",
     "output_type": "stream",
     "text": [
      "count    224.000000\n",
      "mean       3.970982\n",
      "std        0.926833\n",
      "min        0.500000\n",
      "25%        3.500000\n",
      "50%        4.000000\n",
      "75%        5.000000\n",
      "max        5.000000\n",
      "Name: nota, dtype: float64\n"
     ]
    },
    {
     "data": {
      "image/png": "[encoded data removed]",
      "text/plain": [
       "<Figure size 432x288 with 1 Axes>"
      ]
     },
     "metadata": {},
     "output_type": "display_data"
    },
    {
     "name": "stdout",
     "output_type": "stream",
     "text": [
      "count    220.000000\n",
      "mean       4.225000\n",
      "std        0.975996\n",
      "min        0.500000\n",
      "25%        4.000000\n",
      "50%        4.500000\n",
      "75%        5.000000\n",
      "max        5.000000\n",
      "Name: nota, dtype: float64\n"
     ]
    }
   ],
   "source": [
    "for x in filmes_mais_avaliados[:10].index.values.tolist():\n",
    "    print(plot_box(x))"
   ]
  },
  {
   "cell_type": "markdown",
   "metadata": {},
   "source": [
    "### Conclusões sobre os filmes mais avaliados\n",
    "Os filmes mais avaliados, por terem mais notas, tem mais excessões, notas fora do gráfico.\n",
    "Como se pode avaliar, boa parte das avaliações fica entre o máximo e a média, vendo a tendência das pessoas de avaliar filmes com nota máxima, porém apenas alguns pontos ficam abaixo dessa média, se enquadrando em excessões."
   ]
  },
  {
   "cell_type": "markdown",
   "metadata": {},
   "source": [
    "# Desafio 4 do Guilherme Silveira\n",
    "Configurar a visualização do boxplot gerado pelo seaborn (último boxplot plotado na aula). Configurar o tamanho e colocar o nome dos filmes nos thicks."
   ]
  },
  {
   "cell_type": "code",
   "execution_count": 135,
   "metadata": {},
   "outputs": [
    {
     "data": {
      "text/plain": [
       "[Text(0, 0, 'Toy Story (1995)'),\n",
       " Text(0, 0, 'Jumanji (1995)'),\n",
       " Text(0, 0, 'Wizard of Oz, The (1939)'),\n",
       " Text(0, 0, 'Little Miss Sunshine (2006)')]"
      ]
     },
     "execution_count": 135,
     "metadata": {},
     "output_type": "execute_result"
    },
    {
     "data": {
      "image/png": "[encoded data removed]",
      "text/plain": [
       "<Figure size 720x360 with 1 Axes>"
      ]
     },
     "metadata": {},
     "output_type": "display_data"
    }
   ],
   "source": [
    "# Plotando o grátifico boxplot com os títulos dos filmes no eixo x\n",
    "plt.figure(figsize=(10,5))\n",
    "box_chart = sns.boxplot(data = avaliacoes.query(\"filmeId in [1,2,919,46578]\"), x = \"filmeId\", y = \"nota\")\n",
    "# Para achar os títulos dos filmes, fiz a mesma query feita em avaliacoes no df filmes, \n",
    "# extraindo a coluna titulo e transformando o resultado em uma lista\n",
    "box_chart.set_xticklabels(filmes.query(\"filmeId in [1,2,919,46578]\")[\"titulo\"].tolist())"
   ]
  },
  {
   "cell_type": "markdown",
   "metadata": {},
   "source": [
    "# Desafio 5 do Allan Spadini\n",
    "Calcular moda, média e mediana dos filmes. Explore filmes com notas mais próximas de 0.5, 3 e 5."
   ]
  },
  {
   "cell_type": "code",
   "execution_count": 141,
   "metadata": {},
   "outputs": [
    {
     "name": "stdout",
     "output_type": "stream",
     "text": [
      "2623  Trippin' (1999)\n",
      "Moda:  [1.0]\n",
      "Média:  1.0\n",
      "Mediana:  1.0\n",
      "2497  Message in a Bottle (1999)\n",
      "Moda:  [3.0, 4.0]\n",
      "Média:  2.9166666666666665\n",
      "Mediana:  3.0\n",
      "496  What Happened Was... (1994)\n",
      "Moda:  [5.0]\n",
      "Média:  5.0\n",
      "Mediana:  5.0\n"
     ]
    }
   ],
   "source": [
    "# Função para buscar filmes aleatórios com uma nota média parecida\n",
    "def filmes_por_nota(n):\n",
    "    # Selecionando e retornando os filmes com notas entre n-0.5 e n+0.5\n",
    "    return filmes_com_media.query(f\"nota >= {n}-0.5 and nota <= {n}+0.5\")\n",
    "\n",
    "# Função para imprimir os dados de moda, média e mediana de um determinado filme de filmeId == n\n",
    "def imprime_moda_mediana_media(n):\n",
    "    filme_avaliado = avaliacoes.query(f\"filmeId=={n}\")\n",
    "    print(n, filmes.query(f\"filmeId=={n}\")[\"titulo\"].to_string(index=False))\n",
    "    print(\"Moda: \", filme_avaliado[\"nota\"].mode().tolist())\n",
    "    print(\"Média: \", filme_avaliado[\"nota\"].mean())\n",
    "    print(\"Mediana: \", filme_avaliado[\"nota\"].median())\n",
    "    \n",
    "# Extraindo a lista de filmes com nota média próxima à 0.5, 3 e 5\n",
    "filmes_media_meio = filmes_por_nota(0.5)\n",
    "filmes_media_tres = filmes_por_nota(3)\n",
    "filmes_media_cinco = filmes_por_nota(5)\n",
    "\n",
    "# Imprimindo a moda, média e mediana e um dos filmes da lista de filmes extraídas acima\n",
    "imprime_moda_mediana_media(int(filmes_media_meio.sample()[\"filmeId\"]))\n",
    "imprime_moda_mediana_media(int(filmes_media_tres.sample()[\"filmeId\"]))\n",
    "imprime_moda_mediana_media(int(filmes_media_cinco.sample()[\"filmeId\"]))"
   ]
  },
  {
   "cell_type": "markdown",
   "metadata": {},
   "source": [
    "Com esses resultados podemos observar que os filmes com nota média próxima à 0.5 e 5 não tiveram muitas avaliações, pois não possuem uma variação muito grande entre os valores de moda, média e mediana.\n",
    "Sendo que em boa parte dos filmes esses valores são iguais (Exemplo: Unforgiven (2013), filmeId = 144352 onde Moda, Média e Mediana são iguais à 0.5)\n",
    "A seguir podemos ver quantas avaliações foram feitas para o filme Unforgiven (2013)"
   ]
  },
  {
   "cell_type": "code",
   "execution_count": 127,
   "metadata": {},
   "outputs": [
    {
     "data": {
      "text/html": [
       "<div>\n",
       "<style scoped>\n",
       "    .dataframe tbody tr th:only-of-type {\n",
       "        vertical-align: middle;\n",
       "    }\n",
       "\n",
       "    .dataframe tbody tr th {\n",
       "        vertical-align: top;\n",
       "    }\n",
       "\n",
       "    .dataframe thead th {\n",
       "        text-align: right;\n",
       "    }\n",
       "</style>\n",
       "<table border=\"1\" class=\"dataframe\">\n",
       "  <thead>\n",
       "    <tr style=\"text-align: right;\">\n",
       "      <th></th>\n",
       "      <th>usuarioId</th>\n",
       "      <th>filmeId</th>\n",
       "      <th>nota</th>\n",
       "      <th>momento</th>\n",
       "    </tr>\n",
       "  </thead>\n",
       "  <tbody>\n",
       "    <tr>\n",
       "      <th>81921</th>\n",
       "      <td>517</td>\n",
       "      <td>144352</td>\n",
       "      <td>0.5</td>\n",
       "      <td>1487958277</td>\n",
       "    </tr>\n",
       "  </tbody>\n",
       "</table>\n",
       "</div>"
      ],
      "text/plain": [
       "       usuarioId  filmeId  nota     momento\n",
       "81921        517   144352   0.5  1487958277"
      ]
     },
     "execution_count": 127,
     "metadata": {},
     "output_type": "execute_result"
    }
   ],
   "source": [
    "# Avaliações feitas para o filme Unforgiven (2013)\n",
    "avaliacoes.query(\"filmeId == 144352\")"
   ]
  },
  {
   "cell_type": "markdown",
   "metadata": {},
   "source": [
    "# Desafio 6 da Thais André\n",
    "Plotar o boxplot e o histograma um do lado do outro (na mesma figura ou em figuras distintas, mas um do lado do outro)."
   ]
  },
  {
   "cell_type": "code",
   "execution_count": 191,
   "metadata": {},
   "outputs": [
    {
     "name": "stdout",
     "output_type": "stream",
     "text": [
      "\n",
      "\n"
     ]
    },
    {
     "data": {
      "image/png": "[encoded data removed]",
      "text/plain": [
       "<Figure size 1152x576 with 2 Axes>"
      ]
     },
     "metadata": {},
     "output_type": "display_data"
    },
    {
     "data": {
      "text/plain": [
       "count    14.000000\n",
       "mean      2.464286\n",
       "std       0.989644\n",
       "min       0.500000\n",
       "25%       2.000000\n",
       "50%       2.750000\n",
       "75%       3.375000\n",
       "max       3.500000\n",
       "Name: nota, dtype: float64"
      ]
     },
     "execution_count": 191,
     "metadata": {},
     "output_type": "execute_result"
    }
   ],
   "source": [
    "# Modificando a função plot_filme para  plotar 2 gráficos na mesma figura\n",
    "def plot_filme(n):\n",
    "    fig, eixos = plt.subplots(nrows=1, ncols=2, figsize=(16,8))\n",
    "    \n",
    "    titulo = filmes_com_media.query(f\"filmeId=={n}\")[\"titulo\"].to_string(index=False)\n",
    "    notas_do_filme = avaliacoes.query(f\"filmeId=={n}\")[\"nota\"]\n",
    "    plt1 = eixos[0].hist(notas_do_filme)\n",
    "    eixos[0].set_title(str(n) + titulo)\n",
    "    print('\\n')\n",
    "    notas_do_filme.plot.box()\n",
    "    eixos[1].set_title(str(n) + titulo)\n",
    "    plt.show()\n",
    "    return notas_do_filme.describe()\n",
    "\n",
    "# Plotando o gráfico de um filme aleatório\n",
    "plot_filme(filmes_com_media.sample()[\"filmeId\"].item())"
   ]
  },
  {
   "cell_type": "markdown",
   "metadata": {},
   "source": [
    "# Desafio 7 do Thiago Goncalves\n",
    "Criar um gráfico de notas médias por ano (média geral considerando todos os filmes lançados naquele ano)"
   ]
  },
  {
   "cell_type": "code",
   "execution_count": 216,
   "metadata": {},
   "outputs": [],
   "source": [
    "# Importando a biblioteca Datetime \n",
    "from datetime import datetime\n",
    "\n",
    "# Transformando a coluna momento em datetime\n",
    "avaliacoes[\"momento\"] = pd.to_datetime(avaliacoes[\"momento\"], unit = 's')\n",
    "\n",
    "# Extraindo o ano da coluna momento para uma nova coluna chamada ano\n",
    "avaliacoes[\"ano\"] = [x.year for x in avaliacoes[\"momento\"]]"
   ]
  },
  {
   "cell_type": "code",
   "execution_count": 243,
   "metadata": {},
   "outputs": [
    {
     "data": {
      "image/png": "[encoded data removed]",
      "text/plain": [
       "<Figure size 1152x576 with 1 Axes>"
      ]
     },
     "metadata": {},
     "output_type": "display_data"
    }
   ],
   "source": [
    "# Extraindo um DF de notas médias por ano do DF avaliacoes modificado\n",
    "notas_medias_por_ano = avaliacoes.groupby(\"ano\")[\"nota\"].mean()\n",
    "\n",
    "# Plotando o gráfico de notas médias por ano\n",
    "sns.set_style(\"whitegrid\")\n",
    "\n",
    "plt.figure(figsize=(16,8))\n",
    "\n",
    "bar_chart = sns.barplot(x=notas_medias_por_ano.index,\n",
    "            y=notas_medias_por_ano.values,\n",
    "            palette=sns.color_palette(\"deep\"))\n",
    "\n",
    "# Adicionando a configuração da label do eixo x e rotacionando em 90 graus\n",
    "bar_chart.set_xticklabels(notas_medias_por_ano.index)\n",
    "bar_chart.set_title(\"Notas médias por ano\")\n",
    "bar_chart.set_ylabel(\"Notas médias\")\n",
    "plt.show()"
   ]
  }
 ],
 "metadata": {
  "kernelspec": {
   "display_name": "Python 3",
   "language": "python",
   "name": "python3"
  },
  "language_info": {
   "codemirror_mode": {
    "name": "ipython",
    "version": 3
   },
   "file_extension": ".py",
   "mimetype": "text/x-python",
   "name": "python",
   "nbconvert_exporter": "python",
   "pygments_lexer": "ipython3",
   "version": "3.7.3"
  }
 },
 "nbformat": 4,
 "nbformat_minor": 4
}
